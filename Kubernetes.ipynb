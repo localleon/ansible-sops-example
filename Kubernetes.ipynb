{
 "cells": [
  {
   "attachments": {},
   "cell_type": "markdown",
   "metadata": {},
   "source": [
    "Prerequisites for installing the bash-kernel"
   ]
  },
  {
   "cell_type": "code",
   "execution_count": null,
   "metadata": {
    "vscode": {
     "languageId": "shellscript"
    }
   },
   "outputs": [],
   "source": [
    "!pip install bash_kernel\n",
    "!python -m bash_kernel.install"
   ]
  },
  {
   "attachments": {},
   "cell_type": "markdown",
   "metadata": {},
   "source": [
    "Create an local cluster for our experiments"
   ]
  },
  {
   "cell_type": "code",
   "execution_count": 2,
   "metadata": {
    "vscode": {
     "languageId": "shellscript"
    }
   },
   "outputs": [
    {
     "name": "stdout",
     "output_type": "stream",
     "text": [
      "NAME                 STATUS   ROLES           AGE   VERSION\n",
      "kind-control-plane   Ready    control-plane   10m   v1.26.3\n",
      "NAMESPACE            NAME                                         READY   STATUS    RESTARTS   AGE\n",
      "kube-system          coredns-787d4945fb-hdjdt                     1/1     Running   0          10m\n",
      "kube-system          coredns-787d4945fb-ztnmd                     1/1     Running   0          10m\n",
      "kube-system          etcd-kind-control-plane                      1/1     Running   0          10m\n",
      "kube-system          kindnet-z96vh                                1/1     Running   0          10m\n",
      "kube-system          kube-apiserver-kind-control-plane            1/1     Running   0          10m\n",
      "kube-system          kube-controller-manager-kind-control-plane   1/1     Running   0          10m\n",
      "kube-system          kube-proxy-zqxfq                             1/1     Running   0          10m\n",
      "kube-system          kube-scheduler-kind-control-plane            1/1     Running   0          10m\n",
      "local-path-storage   local-path-provisioner-75f5b54ffd-2l8h4      1/1     Running   0          10m\n"
     ]
    }
   ],
   "source": [
    "%%sh\n",
    "\n",
    "kubectl get nodes\n",
    "kubectl get pods -A"
   ]
  },
  {
   "attachments": {},
   "cell_type": "markdown",
   "metadata": {},
   "source": [
    "Check your local age-key file and encode it with base64\n"
   ]
  },
  {
   "cell_type": "code",
   "execution_count": 28,
   "metadata": {
    "vscode": {
     "languageId": "shellscript"
    }
   },
   "outputs": [
    {
     "name": "stdout",
     "output_type": "stream",
     "text": [
      "QUdFLVNFQ1JFVC1LRVktMUU4S1ZIRDA2VTVENTRMMkgzTDlINlJGOVJFRDNBTUNOUVpSTVM3Szk4\n",
      "TlNKNlRTWFpEMFNDN1dMNUoK\n"
     ]
    }
   ],
   "source": [
    "%%sh \n",
    "\n",
    "sed -n -e '/^AGE-SECRET-KEY/p' ~/.sops/keys/sample-env.txt | base64"
   ]
  },
  {
   "attachments": {},
   "cell_type": "markdown",
   "metadata": {},
   "source": [
    "We need to bootstrap our cluster with an inital secret. So we upload a secret to our cluster with a base64 encoded age key"
   ]
  },
  {
   "cell_type": "code",
   "execution_count": 31,
   "metadata": {
    "vscode": {
     "languageId": "shellscript"
    }
   },
   "outputs": [
    {
     "name": "stdout",
     "output_type": "stream",
     "text": [
      "secret/sops-age-key-file unchanged\n",
      "NAME                         TYPE                 DATA   AGE\n",
      "sh.helm.release.v1.sops.v1   helm.sh/release.v1   1      7m5s\n",
      "sops-age-key-file            Opaque               1      15s\n"
     ]
    }
   ],
   "source": [
    "%%sh\n",
    "\n",
    "cat <<EOF | kubectl apply -f -\n",
    "apiVersion: v1\n",
    "data:\n",
    "  key: QUdFLVNFQ1JFVC1LRVktMUU4S1ZIRDA2VTVENTRMMkgzTDlINlJGOVJFRDNBTUNOUVpSTVM3Szk4TlNKNlRTWFpEMFNDN1dMNUo=\n",
    "kind: Secret\n",
    "metadata:\n",
    "  name: sops-age-key-file\n",
    "  namespace: sops\n",
    "type: Opaque\n",
    "EOF\n",
    "\n",
    "kubectl get secrets -n sops"
   ]
  },
  {
   "attachments": {},
   "cell_type": "markdown",
   "metadata": {},
   "source": [
    "Configure our age-secret as values file for the sops-secrets-operator"
   ]
  },
  {
   "cell_type": "code",
   "execution_count": 35,
   "metadata": {
    "vscode": {
     "languageId": "shellscript"
    }
   },
   "outputs": [],
   "source": [
    "%%sh\n",
    "\n",
    "cat >./kubernetes/sops-helm-values.yaml<< EOF\n",
    "extraEnv:\n",
    "  - name: SOPS_AGE_KEY_FILE\n",
    "    value: /etc/sops-age-key-file/key\n",
    "secretsAsFiles:\n",
    "  - mountPath: /etc/sops-age-key-file\n",
    "    name: sops-age-key-file\n",
    "    secretName: sops-age-key-file\n",
    "EOF"
   ]
  },
  {
   "attachments": {},
   "cell_type": "markdown",
   "metadata": {},
   "source": [
    "Install the SOPS Operator into our cluster"
   ]
  },
  {
   "cell_type": "code",
   "execution_count": 37,
   "metadata": {
    "vscode": {
     "languageId": "shellscript"
    }
   },
   "outputs": [
    {
     "name": "stdout",
     "output_type": "stream",
     "text": [
      "\"sops\" already exists with the same configuration, skipping\n",
      "Hang tight while we grab the latest from your chart repositories...\n",
      "...Successfully got an update from the \"postgres-operator-ui-charts\" chart repository\n",
      "...Successfully got an update from the \"longhorn\" chart repository\n",
      "...Successfully got an update from the \"nginx-stable\" chart repository\n",
      "...Successfully got an update from the \"sops\" chart repository\n",
      "...Successfully got an update from the \"postgres-operator-charts\" chart repository\n",
      "...Successfully got an update from the \"atlassian-data-center\" chart repository\n",
      "...Successfully got an update from the \"rancher-stable\" chart repository\n",
      "...Successfully got an update from the \"traefik\" chart repository\n",
      "...Successfully got an update from the \"rancher-latest\" chart repository\n",
      "...Successfully got an update from the \"grafana\" chart repository\n",
      "...Successfully got an update from the \"bitnami\" chart repository\n",
      "...Successfully got an update from the \"jfrog\" chart repository\n",
      "Update Complete. ⎈Happy Helming!⎈\n",
      "Release \"sops\" has been upgraded. Happy Helming!\n",
      "NAME: sops\n",
      "LAST DEPLOYED: Thu Apr 27 15:51:47 2023\n",
      "NAMESPACE: sops\n",
      "STATUS: deployed\n",
      "REVISION: 2\n",
      "TEST SUITE: None\n"
     ]
    }
   ],
   "source": [
    "%%sh\n",
    "\n",
    "helm repo add sops https://isindir.github.io/sops-secrets-operator/\n",
    "helm repo update\n",
    "helm upgrade --install --create-namespace sops sops/sops-secrets-operator --namespace sops --values ./kubernetes/sops-helm-values.yaml"
   ]
  },
  {
   "cell_type": "code",
   "execution_count": 39,
   "metadata": {
    "vscode": {
     "languageId": "shellscript"
    }
   },
   "outputs": [
    {
     "name": "stdout",
     "output_type": "stream",
     "text": [
      "{\"level\":\"info\",\"ts\":\"2023-04-27T13:51:49Z\",\"logger\":\"controller-runtime.metrics\",\"msg\":\"Metrics server is starting to listen\",\"addr\":\":8080\"}\n",
      "{\"level\":\"info\",\"ts\":\"2023-04-27T13:51:49Z\",\"logger\":\"setup\",\"msg\":\"SopsSecret reconciliation will be requeued after 5 minutes after decryption failures\"}\n",
      "{\"level\":\"info\",\"ts\":\"2023-04-27T13:51:49Z\",\"logger\":\"setup\",\"msg\":\"starting manager\"}\n",
      "{\"level\":\"info\",\"ts\":\"2023-04-27T13:51:49Z\",\"msg\":\"Starting server\",\"path\":\"/metrics\",\"kind\":\"metrics\",\"addr\":\"[::]:8080\"}\n",
      "{\"level\":\"info\",\"ts\":\"2023-04-27T13:51:49Z\",\"msg\":\"Starting server\",\"kind\":\"health probe\",\"addr\":\"[::]:8081\"}\n",
      "I0427 13:51:49.408175       1 leaderelection.go:248] attempting to acquire leader lease sops/ca57d051.github.com...\n",
      "I0427 13:52:13.389818       1 leaderelection.go:258] successfully acquired lease sops/ca57d051.github.com\n",
      "{\"level\":\"info\",\"ts\":\"2023-04-27T13:52:13Z\",\"msg\":\"Starting EventSource\",\"controller\":\"sopssecret\",\"controllerGroup\":\"isindir.github.com\",\"controllerKind\":\"SopsSecret\",\"source\":\"kind source: *v1alpha3.SopsSecret\"}\n",
      "{\"level\":\"info\",\"ts\":\"2023-04-27T13:52:13Z\",\"msg\":\"Starting EventSource\",\"controller\":\"sopssecret\",\"controllerGroup\":\"isindir.github.com\",\"controllerKind\":\"SopsSecret\",\"source\":\"kind source: *v1.Secret\"}\n",
      "{\"level\":\"info\",\"ts\":\"2023-04-27T13:52:13Z\",\"msg\":\"Starting Controller\",\"controller\":\"sopssecret\",\"controllerGroup\":\"isindir.github.com\",\"controllerKind\":\"SopsSecret\"}\n",
      "{\"level\":\"info\",\"ts\":\"2023-04-27T13:52:13Z\",\"msg\":\"Starting workers\",\"controller\":\"sopssecret\",\"controllerGroup\":\"isindir.github.com\",\"controllerKind\":\"SopsSecret\",\"worker count\":1}\n"
     ]
    }
   ],
   "source": [
    "%%sh\n",
    "kubectl logs -n sops sops-sops-secrets-operator-54d5c5c8c8-fw85t"
   ]
  },
  {
   "attachments": {},
   "cell_type": "markdown",
   "metadata": {},
   "source": [
    "Create a yaml secret with all your values and install it into the cluster"
   ]
  },
  {
   "cell_type": "code",
   "execution_count": 41,
   "metadata": {
    "vscode": {
     "languageId": "shellscript"
    }
   },
   "outputs": [],
   "source": [
    "%%sh\n",
    "cat >./kubernetes/test-secrets.yaml <<EOF\n",
    "apiVersion: isindir.github.com/v1alpha3\n",
    "kind: SopsSecret\n",
    "metadata:\n",
    "  name: example-sopssecret\n",
    "spec:\n",
    "  # suspend reconciliation of the sops secret object\n",
    "  suspend: false\n",
    "  secretTemplates:\n",
    "    - name: my-secret-name-1\n",
    "      labels:\n",
    "        label1: value1\n",
    "      annotations:\n",
    "        key1: value1\n",
    "      stringData:\n",
    "        data-name0: data-value0\n",
    "      data:\n",
    "        data-name1: ZGF0YS12YWx1ZTE=\n",
    "    - name: jenkins-secret\n",
    "      labels:\n",
    "        \"jenkins.io/credentials-type\": \"usernamePassword\"\n",
    "      annotations:\n",
    "        \"jenkins.io/credentials-description\": \"credentials from Kubernetes\"\n",
    "      stringData:\n",
    "        username: myUsername\n",
    "        password: 'Pa$$word'\n",
    "    - name: some-token\n",
    "      stringData:\n",
    "        token: Wb4ziZdELkdUf6m6KtNd7iRjjQRvSeJno5meH4NAGHFmpqJyEsekZ2WjX232s4Gj\n",
    "    - name: docker-login\n",
    "      type: 'kubernetes.io/dockerconfigjson'\n",
    "      stringData:\n",
    "        .dockerconfigjson: '{\"auths\":{\"index.docker.io\":{\"username\":\"imyuser\",\"password\":\"mypass\",\"email\":\"myuser@abc.com\",\"auth\":\"aW15dXNlcjpteXBhc3M=\"}}}'\n",
    "EOF"
   ]
  },
  {
   "attachments": {},
   "cell_type": "markdown",
   "metadata": {},
   "source": [
    "Next step is to encrypt the secret with sops. We use `--encrypted-suffix='Templates'``. For encryption we only need the public key of the cluster in. This is saved in `.sopsrc` in our local repository"
   ]
  },
  {
   "cell_type": "code",
   "execution_count": 45,
   "metadata": {
    "vscode": {
     "languageId": "shellscript"
    }
   },
   "outputs": [
    {
     "name": "stdout",
     "output_type": "stream",
     "text": [
      "sopssecret.isindir.github.com/example-sopssecret created\n"
     ]
    }
   ],
   "source": [
    "%%sh \n",
    "sops --encrypt --encrypted-suffix='Templates' ./kubernetes/test-secrets.yaml > ./kubernetes/test-secrets.kubesops.yaml\n",
    "kubectl apply -f ./kubernetes/test-secrets.kubesops.yaml -n default"
   ]
  },
  {
   "attachments": {},
   "cell_type": "markdown",
   "metadata": {},
   "source": [
    "If we look into the cluster, the secret has been successfully created"
   ]
  },
  {
   "cell_type": "code",
   "execution_count": 50,
   "metadata": {
    "vscode": {
     "languageId": "shellscript"
    }
   },
   "outputs": [
    {
     "name": "stdout",
     "output_type": "stream",
     "text": [
      "NAME               TYPE                             DATA   AGE\n",
      "docker-login       kubernetes.io/dockerconfigjson   1      4m5s\n",
      "jenkins-secret     Opaque                           2      4m6s\n",
      "my-secret-name-1   Opaque                           2      4m6s\n",
      "some-token         Opaque                           1      4m6s\n",
      "------------------\n",
      "Name:         jenkins-secret\n",
      "Namespace:    default\n",
      "Labels:       jenkins.io/credentials-type=usernamePassword\n",
      "Annotations:  jenkins.io/credentials-description: credentials from Kubernetes\n",
      "\n",
      "Type:  Opaque\n",
      "\n",
      "Data\n",
      "====\n",
      "password:  11 bytes\n",
      "username:  10 bytes\n"
     ]
    }
   ],
   "source": [
    "%%sh \n",
    "\n",
    "kubectl get secrets \n",
    "echo \"------------------\"\n",
    "kubectl describe secrets jenkins-secret"
   ]
  },
  {
   "attachments": {},
   "cell_type": "markdown",
   "metadata": {},
   "source": [
    "The sops-secret-operator detected our change and successfully created all the secrets"
   ]
  },
  {
   "cell_type": "code",
   "execution_count": 51,
   "metadata": {
    "vscode": {
     "languageId": "shellscript"
    }
   },
   "outputs": [
    {
     "name": "stdout",
     "output_type": "stream",
     "text": [
      "{\"level\":\"info\",\"ts\":\"2023-04-27T13:51:49Z\",\"logger\":\"controller-runtime.metrics\",\"msg\":\"Metrics server is starting to listen\",\"addr\":\":8080\"}\n",
      "{\"level\":\"info\",\"ts\":\"2023-04-27T13:51:49Z\",\"logger\":\"setup\",\"msg\":\"SopsSecret reconciliation will be requeued after 5 minutes after decryption failures\"}\n",
      "{\"level\":\"info\",\"ts\":\"2023-04-27T13:51:49Z\",\"logger\":\"setup\",\"msg\":\"starting manager\"}\n",
      "{\"level\":\"info\",\"ts\":\"2023-04-27T13:51:49Z\",\"msg\":\"Starting server\",\"path\":\"/metrics\",\"kind\":\"metrics\",\"addr\":\"[::]:8080\"}\n",
      "{\"level\":\"info\",\"ts\":\"2023-04-27T13:51:49Z\",\"msg\":\"Starting server\",\"kind\":\"health probe\",\"addr\":\"[::]:8081\"}\n",
      "I0427 13:51:49.408175       1 leaderelection.go:248] attempting to acquire leader lease sops/ca57d051.github.com...\n",
      "I0427 13:52:13.389818       1 leaderelection.go:258] successfully acquired lease sops/ca57d051.github.com\n",
      "{\"level\":\"info\",\"ts\":\"2023-04-27T13:52:13Z\",\"msg\":\"Starting EventSource\",\"controller\":\"sopssecret\",\"controllerGroup\":\"isindir.github.com\",\"controllerKind\":\"SopsSecret\",\"source\":\"kind source: *v1alpha3.SopsSecret\"}\n",
      "{\"level\":\"info\",\"ts\":\"2023-04-27T13:52:13Z\",\"msg\":\"Starting EventSource\",\"controller\":\"sopssecret\",\"controllerGroup\":\"isindir.github.com\",\"controllerKind\":\"SopsSecret\",\"source\":\"kind source: *v1.Secret\"}\n",
      "{\"level\":\"info\",\"ts\":\"2023-04-27T13:52:13Z\",\"msg\":\"Starting Controller\",\"controller\":\"sopssecret\",\"controllerGroup\":\"isindir.github.com\",\"controllerKind\":\"SopsSecret\"}\n",
      "{\"level\":\"info\",\"ts\":\"2023-04-27T13:52:13Z\",\"msg\":\"Starting workers\",\"controller\":\"sopssecret\",\"controllerGroup\":\"isindir.github.com\",\"controllerKind\":\"SopsSecret\",\"worker count\":1}\n",
      "{\"level\":\"info\",\"ts\":\"2023-04-27T13:56:59Z\",\"logger\":\"controllers.SopsSecret\",\"msg\":\"Reconciling\",\"sopssecret\":\"default/example-sopssecret\"}\n",
      "{\"level\":\"info\",\"ts\":\"2023-04-27T13:56:59Z\",\"logger\":\"controllers.SopsSecret\",\"msg\":\"Entering template data loop\",\"sopssecret\":\"default/example-sopssecret\"}\n",
      "{\"level\":\"info\",\"ts\":\"2023-04-27T13:56:59Z\",\"logger\":\"controllers.SopsSecret\",\"msg\":\"Processing\",\"sopssecret\":\"SopsSecret.isindir.github.com/v1alpha3.example-sopssecret\",\"type\":\"\",\"namespace\":\"default\",\"templateItem\":\"secret/my-secret-name-1\"}\n",
      "{\"level\":\"info\",\"ts\":\"2023-04-27T13:56:59Z\",\"logger\":\"controllers.SopsSecret\",\"msg\":\"Creating a new Secret\",\"sopssecret\":\"default/example-sopssecret\",\"message\":\"Secret \\\"my-secret-name-1\\\" not found\"}\n",
      "{\"level\":\"info\",\"ts\":\"2023-04-27T13:56:59Z\",\"logger\":\"controllers.SopsSecret\",\"msg\":\"Secret already exists and needs to be refreshed\",\"secret\":\"my-secret-name-1\",\"namespace\":\"default\"}\n",
      "{\"level\":\"info\",\"ts\":\"2023-04-27T13:56:59Z\",\"logger\":\"controllers.SopsSecret\",\"msg\":\"Secret successfully refreshed\",\"secret\":\"my-secret-name-1\",\"namespace\":\"default\"}\n",
      "{\"level\":\"info\",\"ts\":\"2023-04-27T13:56:59Z\",\"logger\":\"controllers.SopsSecret\",\"msg\":\"Processing\",\"sopssecret\":\"SopsSecret.isindir.github.com/v1alpha3.example-sopssecret\",\"type\":\"\",\"namespace\":\"default\",\"templateItem\":\"secret/jenkins-secret\"}\n",
      "{\"level\":\"info\",\"ts\":\"2023-04-27T13:56:59Z\",\"logger\":\"controllers.SopsSecret\",\"msg\":\"Creating a new Secret\",\"sopssecret\":\"default/example-sopssecret\",\"message\":\"Secret \\\"jenkins-secret\\\" not found\"}\n",
      "{\"level\":\"info\",\"ts\":\"2023-04-27T13:56:59Z\",\"logger\":\"controllers.SopsSecret\",\"msg\":\"Secret already exists and needs to be refreshed\",\"secret\":\"jenkins-secret\",\"namespace\":\"default\"}\n",
      "{\"level\":\"info\",\"ts\":\"2023-04-27T13:56:59Z\",\"logger\":\"controllers.SopsSecret\",\"msg\":\"Secret successfully refreshed\",\"secret\":\"jenkins-secret\",\"namespace\":\"default\"}\n",
      "{\"level\":\"info\",\"ts\":\"2023-04-27T13:56:59Z\",\"logger\":\"controllers.SopsSecret\",\"msg\":\"Processing\",\"sopssecret\":\"SopsSecret.isindir.github.com/v1alpha3.example-sopssecret\",\"type\":\"\",\"namespace\":\"default\",\"templateItem\":\"secret/some-token\"}\n",
      "{\"level\":\"info\",\"ts\":\"2023-04-27T13:56:59Z\",\"logger\":\"controllers.SopsSecret\",\"msg\":\"Creating a new Secret\",\"sopssecret\":\"default/example-sopssecret\",\"message\":\"Secret \\\"some-token\\\" not found\"}\n",
      "{\"level\":\"info\",\"ts\":\"2023-04-27T13:56:59Z\",\"logger\":\"controllers.SopsSecret\",\"msg\":\"Secret already exists and needs to be refreshed\",\"secret\":\"some-token\",\"namespace\":\"default\"}\n",
      "{\"level\":\"info\",\"ts\":\"2023-04-27T13:57:00Z\",\"logger\":\"controllers.SopsSecret\",\"msg\":\"Secret successfully refreshed\",\"secret\":\"some-token\",\"namespace\":\"default\"}\n",
      "{\"level\":\"info\",\"ts\":\"2023-04-27T13:57:00Z\",\"logger\":\"controllers.SopsSecret\",\"msg\":\"Processing\",\"sopssecret\":\"SopsSecret.isindir.github.com/v1alpha3.example-sopssecret\",\"type\":\"kubernetes.io/dockerconfigjson\",\"namespace\":\"default\",\"templateItem\":\"secret/docker-login\"}\n",
      "{\"level\":\"info\",\"ts\":\"2023-04-27T13:57:00Z\",\"logger\":\"controllers.SopsSecret\",\"msg\":\"Creating a new Secret\",\"sopssecret\":\"default/example-sopssecret\",\"message\":\"Secret \\\"docker-login\\\" not found\"}\n",
      "{\"level\":\"info\",\"ts\":\"2023-04-27T13:57:00Z\",\"logger\":\"controllers.SopsSecret\",\"msg\":\"Secret already exists and needs to be refreshed\",\"secret\":\"docker-login\",\"namespace\":\"default\"}\n",
      "{\"level\":\"info\",\"ts\":\"2023-04-27T13:57:00Z\",\"logger\":\"controllers.SopsSecret\",\"msg\":\"Child secret update error\",\"sopssecret\":\"default/example-sopssecret\",\"error\":\"Secret \\\"docker-login\\\" is invalid: data[.dockerconfigjson]: Required value\"}\n",
      "{\"level\":\"info\",\"ts\":\"2023-04-27T13:57:00Z\",\"logger\":\"controllers.SopsSecret\",\"msg\":\"Reconciling\",\"sopssecret\":\"default/example-sopssecret\"}\n",
      "{\"level\":\"info\",\"ts\":\"2023-04-27T13:57:00Z\",\"logger\":\"controllers.SopsSecret\",\"msg\":\"Entering template data loop\",\"sopssecret\":\"default/example-sopssecret\"}\n",
      "{\"level\":\"info\",\"ts\":\"2023-04-27T13:57:00Z\",\"logger\":\"controllers.SopsSecret\",\"msg\":\"Processing\",\"sopssecret\":\"SopsSecret.isindir.github.com/v1alpha3.example-sopssecret\",\"type\":\"\",\"namespace\":\"default\",\"templateItem\":\"secret/my-secret-name-1\"}\n",
      "{\"level\":\"info\",\"ts\":\"2023-04-27T13:57:00Z\",\"logger\":\"controllers.SopsSecret\",\"msg\":\"Secret already exists and needs to be refreshed\",\"secret\":\"my-secret-name-1\",\"namespace\":\"default\"}\n",
      "{\"level\":\"info\",\"ts\":\"2023-04-27T13:57:00Z\",\"logger\":\"controllers.SopsSecret\",\"msg\":\"Secret successfully refreshed\",\"secret\":\"my-secret-name-1\",\"namespace\":\"default\"}\n",
      "{\"level\":\"info\",\"ts\":\"2023-04-27T13:57:00Z\",\"logger\":\"controllers.SopsSecret\",\"msg\":\"Processing\",\"sopssecret\":\"SopsSecret.isindir.github.com/v1alpha3.example-sopssecret\",\"type\":\"\",\"namespace\":\"default\",\"templateItem\":\"secret/jenkins-secret\"}\n",
      "{\"level\":\"info\",\"ts\":\"2023-04-27T13:57:00Z\",\"logger\":\"controllers.SopsSecret\",\"msg\":\"Secret already exists and needs to be refreshed\",\"secret\":\"jenkins-secret\",\"namespace\":\"default\"}\n",
      "{\"level\":\"info\",\"ts\":\"2023-04-27T13:57:00Z\",\"logger\":\"controllers.SopsSecret\",\"msg\":\"Secret successfully refreshed\",\"secret\":\"jenkins-secret\",\"namespace\":\"default\"}\n",
      "{\"level\":\"info\",\"ts\":\"2023-04-27T13:57:00Z\",\"logger\":\"controllers.SopsSecret\",\"msg\":\"Processing\",\"sopssecret\":\"SopsSecret.isindir.github.com/v1alpha3.example-sopssecret\",\"type\":\"\",\"namespace\":\"default\",\"templateItem\":\"secret/some-token\"}\n",
      "{\"level\":\"info\",\"ts\":\"2023-04-27T13:57:00Z\",\"logger\":\"controllers.SopsSecret\",\"msg\":\"Secret already exists and needs to be refreshed\",\"secret\":\"some-token\",\"namespace\":\"default\"}\n",
      "{\"level\":\"info\",\"ts\":\"2023-04-27T13:57:00Z\",\"logger\":\"controllers.SopsSecret\",\"msg\":\"Secret successfully refreshed\",\"secret\":\"some-token\",\"namespace\":\"default\"}\n",
      "{\"level\":\"info\",\"ts\":\"2023-04-27T13:57:00Z\",\"logger\":\"controllers.SopsSecret\",\"msg\":\"Processing\",\"sopssecret\":\"SopsSecret.isindir.github.com/v1alpha3.example-sopssecret\",\"type\":\"kubernetes.io/dockerconfigjson\",\"namespace\":\"default\",\"templateItem\":\"secret/docker-login\"}\n",
      "{\"level\":\"info\",\"ts\":\"2023-04-27T13:57:00Z\",\"logger\":\"controllers.SopsSecret\",\"msg\":\"Secret already exists and needs to be refreshed\",\"secret\":\"docker-login\",\"namespace\":\"default\"}\n",
      "{\"level\":\"info\",\"ts\":\"2023-04-27T13:57:00Z\",\"logger\":\"controllers.SopsSecret\",\"msg\":\"Secret successfully refreshed\",\"secret\":\"docker-login\",\"namespace\":\"default\"}\n",
      "{\"level\":\"info\",\"ts\":\"2023-04-27T13:57:00Z\",\"logger\":\"controllers.SopsSecret\",\"msg\":\"SopsSecret is Healthy\",\"sopssecret\":\"default/example-sopssecret\"}\n",
      "{\"level\":\"info\",\"ts\":\"2023-04-27T13:57:00Z\",\"logger\":\"controllers.SopsSecret\",\"msg\":\"Reconciling\",\"sopssecret\":\"default/example-sopssecret\"}\n",
      "{\"level\":\"info\",\"ts\":\"2023-04-27T13:57:00Z\",\"logger\":\"controllers.SopsSecret\",\"msg\":\"Entering template data loop\",\"sopssecret\":\"default/example-sopssecret\"}\n",
      "{\"level\":\"info\",\"ts\":\"2023-04-27T13:57:00Z\",\"logger\":\"controllers.SopsSecret\",\"msg\":\"Processing\",\"sopssecret\":\"SopsSecret.isindir.github.com/v1alpha3.example-sopssecret\",\"type\":\"\",\"namespace\":\"default\",\"templateItem\":\"secret/my-secret-name-1\"}\n",
      "{\"level\":\"info\",\"ts\":\"2023-04-27T13:57:00Z\",\"logger\":\"controllers.SopsSecret\",\"msg\":\"Secret already exists and needs to be refreshed\",\"secret\":\"my-secret-name-1\",\"namespace\":\"default\"}\n",
      "{\"level\":\"info\",\"ts\":\"2023-04-27T13:57:00Z\",\"logger\":\"controllers.SopsSecret\",\"msg\":\"Secret successfully refreshed\",\"secret\":\"my-secret-name-1\",\"namespace\":\"default\"}\n",
      "{\"level\":\"info\",\"ts\":\"2023-04-27T13:57:00Z\",\"logger\":\"controllers.SopsSecret\",\"msg\":\"Processing\",\"sopssecret\":\"SopsSecret.isindir.github.com/v1alpha3.example-sopssecret\",\"type\":\"\",\"namespace\":\"default\",\"templateItem\":\"secret/jenkins-secret\"}\n",
      "{\"level\":\"info\",\"ts\":\"2023-04-27T13:57:00Z\",\"logger\":\"controllers.SopsSecret\",\"msg\":\"Secret already exists and needs to be refreshed\",\"secret\":\"jenkins-secret\",\"namespace\":\"default\"}\n",
      "{\"level\":\"info\",\"ts\":\"2023-04-27T13:57:00Z\",\"logger\":\"controllers.SopsSecret\",\"msg\":\"Secret successfully refreshed\",\"secret\":\"jenkins-secret\",\"namespace\":\"default\"}\n",
      "{\"level\":\"info\",\"ts\":\"2023-04-27T13:57:00Z\",\"logger\":\"controllers.SopsSecret\",\"msg\":\"Processing\",\"sopssecret\":\"SopsSecret.isindir.github.com/v1alpha3.example-sopssecret\",\"type\":\"\",\"namespace\":\"default\",\"templateItem\":\"secret/some-token\"}\n",
      "{\"level\":\"info\",\"ts\":\"2023-04-27T13:57:00Z\",\"logger\":\"controllers.SopsSecret\",\"msg\":\"Secret already exists and needs to be refreshed\",\"secret\":\"some-token\",\"namespace\":\"default\"}\n",
      "{\"level\":\"info\",\"ts\":\"2023-04-27T13:57:00Z\",\"logger\":\"controllers.SopsSecret\",\"msg\":\"Secret successfully refreshed\",\"secret\":\"some-token\",\"namespace\":\"default\"}\n",
      "{\"level\":\"info\",\"ts\":\"2023-04-27T13:57:00Z\",\"logger\":\"controllers.SopsSecret\",\"msg\":\"Processing\",\"sopssecret\":\"SopsSecret.isindir.github.com/v1alpha3.example-sopssecret\",\"type\":\"kubernetes.io/dockerconfigjson\",\"namespace\":\"default\",\"templateItem\":\"secret/docker-login\"}\n",
      "{\"level\":\"info\",\"ts\":\"2023-04-27T13:57:00Z\",\"logger\":\"controllers.SopsSecret\",\"msg\":\"Secret already exists and needs to be refreshed\",\"secret\":\"docker-login\",\"namespace\":\"default\"}\n",
      "{\"level\":\"info\",\"ts\":\"2023-04-27T13:57:00Z\",\"logger\":\"controllers.SopsSecret\",\"msg\":\"Secret successfully refreshed\",\"secret\":\"docker-login\",\"namespace\":\"default\"}\n",
      "{\"level\":\"info\",\"ts\":\"2023-04-27T13:57:00Z\",\"logger\":\"controllers.SopsSecret\",\"msg\":\"SopsSecret is Healthy\",\"sopssecret\":\"default/example-sopssecret\"}\n",
      "{\"level\":\"info\",\"ts\":\"2023-04-27T13:57:00Z\",\"logger\":\"controllers.SopsSecret\",\"msg\":\"Reconciling\",\"sopssecret\":\"default/example-sopssecret\"}\n",
      "{\"level\":\"info\",\"ts\":\"2023-04-27T13:57:00Z\",\"logger\":\"controllers.SopsSecret\",\"msg\":\"Entering template data loop\",\"sopssecret\":\"default/example-sopssecret\"}\n",
      "{\"level\":\"info\",\"ts\":\"2023-04-27T13:57:00Z\",\"logger\":\"controllers.SopsSecret\",\"msg\":\"Processing\",\"sopssecret\":\"SopsSecret.isindir.github.com/v1alpha3.example-sopssecret\",\"type\":\"\",\"namespace\":\"default\",\"templateItem\":\"secret/my-secret-name-1\"}\n",
      "{\"level\":\"info\",\"ts\":\"2023-04-27T13:57:00Z\",\"logger\":\"controllers.SopsSecret\",\"msg\":\"Secret already exists and needs to be refreshed\",\"secret\":\"my-secret-name-1\",\"namespace\":\"default\"}\n",
      "{\"level\":\"info\",\"ts\":\"2023-04-27T13:57:00Z\",\"logger\":\"controllers.SopsSecret\",\"msg\":\"Secret successfully refreshed\",\"secret\":\"my-secret-name-1\",\"namespace\":\"default\"}\n",
      "{\"level\":\"info\",\"ts\":\"2023-04-27T13:57:00Z\",\"logger\":\"controllers.SopsSecret\",\"msg\":\"Processing\",\"sopssecret\":\"SopsSecret.isindir.github.com/v1alpha3.example-sopssecret\",\"type\":\"\",\"namespace\":\"default\",\"templateItem\":\"secret/jenkins-secret\"}\n",
      "{\"level\":\"info\",\"ts\":\"2023-04-27T13:57:00Z\",\"logger\":\"controllers.SopsSecret\",\"msg\":\"Secret already exists and needs to be refreshed\",\"secret\":\"jenkins-secret\",\"namespace\":\"default\"}\n",
      "{\"level\":\"info\",\"ts\":\"2023-04-27T13:57:00Z\",\"logger\":\"controllers.SopsSecret\",\"msg\":\"Secret successfully refreshed\",\"secret\":\"jenkins-secret\",\"namespace\":\"default\"}\n",
      "{\"level\":\"info\",\"ts\":\"2023-04-27T13:57:00Z\",\"logger\":\"controllers.SopsSecret\",\"msg\":\"Processing\",\"sopssecret\":\"SopsSecret.isindir.github.com/v1alpha3.example-sopssecret\",\"type\":\"\",\"namespace\":\"default\",\"templateItem\":\"secret/some-token\"}\n",
      "{\"level\":\"info\",\"ts\":\"2023-04-27T13:57:00Z\",\"logger\":\"controllers.SopsSecret\",\"msg\":\"Secret already exists and needs to be refreshed\",\"secret\":\"some-token\",\"namespace\":\"default\"}\n",
      "{\"level\":\"info\",\"ts\":\"2023-04-27T13:57:00Z\",\"logger\":\"controllers.SopsSecret\",\"msg\":\"Secret successfully refreshed\",\"secret\":\"some-token\",\"namespace\":\"default\"}\n",
      "{\"level\":\"info\",\"ts\":\"2023-04-27T13:57:00Z\",\"logger\":\"controllers.SopsSecret\",\"msg\":\"Processing\",\"sopssecret\":\"SopsSecret.isindir.github.com/v1alpha3.example-sopssecret\",\"type\":\"kubernetes.io/dockerconfigjson\",\"namespace\":\"default\",\"templateItem\":\"secret/docker-login\"}\n",
      "{\"level\":\"info\",\"ts\":\"2023-04-27T13:57:00Z\",\"logger\":\"controllers.SopsSecret\",\"msg\":\"Secret already exists and needs to be refreshed\",\"secret\":\"docker-login\",\"namespace\":\"default\"}\n",
      "{\"level\":\"info\",\"ts\":\"2023-04-27T13:57:00Z\",\"logger\":\"controllers.SopsSecret\",\"msg\":\"Secret successfully refreshed\",\"secret\":\"docker-login\",\"namespace\":\"default\"}\n",
      "{\"level\":\"info\",\"ts\":\"2023-04-27T13:57:00Z\",\"logger\":\"controllers.SopsSecret\",\"msg\":\"SopsSecret is Healthy\",\"sopssecret\":\"default/example-sopssecret\"}\n",
      "{\"level\":\"info\",\"ts\":\"2023-04-27T14:02:00Z\",\"logger\":\"controllers.SopsSecret\",\"msg\":\"Reconciling\",\"sopssecret\":\"default/example-sopssecret\"}\n",
      "{\"level\":\"info\",\"ts\":\"2023-04-27T14:02:00Z\",\"logger\":\"controllers.SopsSecret\",\"msg\":\"Entering template data loop\",\"sopssecret\":\"default/example-sopssecret\"}\n",
      "{\"level\":\"info\",\"ts\":\"2023-04-27T14:02:00Z\",\"logger\":\"controllers.SopsSecret\",\"msg\":\"Processing\",\"sopssecret\":\"SopsSecret.isindir.github.com/v1alpha3.example-sopssecret\",\"type\":\"\",\"namespace\":\"default\",\"templateItem\":\"secret/my-secret-name-1\"}\n",
      "{\"level\":\"info\",\"ts\":\"2023-04-27T14:02:00Z\",\"logger\":\"controllers.SopsSecret\",\"msg\":\"Secret already exists and needs to be refreshed\",\"secret\":\"my-secret-name-1\",\"namespace\":\"default\"}\n",
      "{\"level\":\"info\",\"ts\":\"2023-04-27T14:02:00Z\",\"logger\":\"controllers.SopsSecret\",\"msg\":\"Secret successfully refreshed\",\"secret\":\"my-secret-name-1\",\"namespace\":\"default\"}\n",
      "{\"level\":\"info\",\"ts\":\"2023-04-27T14:02:00Z\",\"logger\":\"controllers.SopsSecret\",\"msg\":\"Processing\",\"sopssecret\":\"SopsSecret.isindir.github.com/v1alpha3.example-sopssecret\",\"type\":\"\",\"namespace\":\"default\",\"templateItem\":\"secret/jenkins-secret\"}\n",
      "{\"level\":\"info\",\"ts\":\"2023-04-27T14:02:00Z\",\"logger\":\"controllers.SopsSecret\",\"msg\":\"Secret already exists and needs to be refreshed\",\"secret\":\"jenkins-secret\",\"namespace\":\"default\"}\n",
      "{\"level\":\"info\",\"ts\":\"2023-04-27T14:02:00Z\",\"logger\":\"controllers.SopsSecret\",\"msg\":\"Secret successfully refreshed\",\"secret\":\"jenkins-secret\",\"namespace\":\"default\"}\n",
      "{\"level\":\"info\",\"ts\":\"2023-04-27T14:02:00Z\",\"logger\":\"controllers.SopsSecret\",\"msg\":\"Processing\",\"sopssecret\":\"SopsSecret.isindir.github.com/v1alpha3.example-sopssecret\",\"type\":\"\",\"namespace\":\"default\",\"templateItem\":\"secret/some-token\"}\n",
      "{\"level\":\"info\",\"ts\":\"2023-04-27T14:02:00Z\",\"logger\":\"controllers.SopsSecret\",\"msg\":\"Secret already exists and needs to be refreshed\",\"secret\":\"some-token\",\"namespace\":\"default\"}\n",
      "{\"level\":\"info\",\"ts\":\"2023-04-27T14:02:00Z\",\"logger\":\"controllers.SopsSecret\",\"msg\":\"Secret successfully refreshed\",\"secret\":\"some-token\",\"namespace\":\"default\"}\n",
      "{\"level\":\"info\",\"ts\":\"2023-04-27T14:02:00Z\",\"logger\":\"controllers.SopsSecret\",\"msg\":\"Processing\",\"sopssecret\":\"SopsSecret.isindir.github.com/v1alpha3.example-sopssecret\",\"type\":\"kubernetes.io/dockerconfigjson\",\"namespace\":\"default\",\"templateItem\":\"secret/docker-login\"}\n",
      "{\"level\":\"info\",\"ts\":\"2023-04-27T14:02:00Z\",\"logger\":\"controllers.SopsSecret\",\"msg\":\"Secret already exists and needs to be refreshed\",\"secret\":\"docker-login\",\"namespace\":\"default\"}\n",
      "{\"level\":\"info\",\"ts\":\"2023-04-27T14:02:00Z\",\"logger\":\"controllers.SopsSecret\",\"msg\":\"Secret successfully refreshed\",\"secret\":\"docker-login\",\"namespace\":\"default\"}\n",
      "{\"level\":\"info\",\"ts\":\"2023-04-27T14:02:00Z\",\"logger\":\"controllers.SopsSecret\",\"msg\":\"SopsSecret is Healthy\",\"sopssecret\":\"default/example-sopssecret\"}\n"
     ]
    }
   ],
   "source": [
    "%%sh \n",
    "kubectl logs -n sops sops-sops-secrets-operator-54d5c5c8c8-fw85t"
   ]
  }
 ],
 "metadata": {
  "kernelspec": {
   "display_name": "Python 3",
   "language": "python",
   "name": "python3"
  },
  "language_info": {
   "codemirror_mode": {
    "name": "ipython",
    "version": 3
   },
   "file_extension": ".py",
   "mimetype": "text/x-python",
   "name": "python",
   "nbconvert_exporter": "python",
   "pygments_lexer": "ipython3",
   "version": "3.10.6"
  },
  "orig_nbformat": 4
 },
 "nbformat": 4,
 "nbformat_minor": 2
}
